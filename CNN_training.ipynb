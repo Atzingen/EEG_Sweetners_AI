{
 "cells": [
  {
   "cell_type": "code",
   "execution_count": 100,
   "metadata": {},
   "outputs": [
    {
     "name": "stdout",
     "output_type": "stream",
     "text": [
      "The autoreload extension is already loaded. To reload it, use:\n",
      "  %reload_ext autoreload\n"
     ]
    }
   ],
   "source": [
    "%load_ext autoreload\n",
    "%autoreload 2\n",
    "\n",
    "# general imports\n",
    "import numpy as np\n",
    "import pickle, time, datetime, itertools, multiprocessing\n",
    "import matplotlib.pyplot as plt\n",
    "import ipywidgets as widgets"
   ]
  },
  {
   "cell_type": "markdown",
   "metadata": {},
   "source": [
    "Tensorflow and sklearn imports"
   ]
  },
  {
   "cell_type": "code",
   "execution_count": 3,
   "metadata": {},
   "outputs": [
    {
     "name": "stderr",
     "output_type": "stream",
     "text": [
      "C:\\Users\\gustavo\\AppData\\Local\\Temp/ipykernel_31256/3709234262.py:8: DeprecationWarning: `import kerastuner` is deprecated, please use `import keras_tuner`.\n",
      "  from kerastuner.tuners import RandomSearch, hyperband\n"
     ]
    }
   ],
   "source": [
    "import tensorflow as tf\n",
    "from tensorflow.keras import Sequential\n",
    "from tensorflow.keras.layers import Dense, Dropout, Conv1D, MaxPooling1D, Flatten, MaxPool1D, Conv2D, BatchNormalization, Activation, concatenate\n",
    "from tensorflow.keras.utils import to_categorical\n",
    "from tensorflow.keras.callbacks import EarlyStopping, ModelCheckpoint\n",
    "from tensorflow.keras.constraints import MaxNorm\n",
    "\n",
    "from kerastuner.tuners import RandomSearch, hyperband\n",
    "from kerastuner.engine.hyperparameters import HyperParameters\n",
    "\n",
    "from tqdm.keras import TqdmCallback\n",
    "\n",
    "from sklearn.model_selection import train_test_split\n",
    "from sklearn.metrics import confusion_matrix"
   ]
  },
  {
   "cell_type": "markdown",
   "metadata": {},
   "source": [
    "Custon functions import"
   ]
  },
  {
   "cell_type": "code",
   "execution_count": 4,
   "metadata": {},
   "outputs": [],
   "source": [
    "from formata_dados import *\n",
    "from processa_dados import *"
   ]
  },
  {
   "cell_type": "markdown",
   "metadata": {},
   "source": [
    "## Importing the dataset and creating the data input and output for the network"
   ]
  },
  {
   "cell_type": "markdown",
   "metadata": {},
   "source": [
    "All the data was treated and imported using the data_cleaning notebook"
   ]
  },
  {
   "cell_type": "code",
   "execution_count": 5,
   "metadata": {},
   "outputs": [],
   "source": [
    "dataset_path = 'Dataset\\\\dados_pickle\\\\'  # folder for the already threated dataset \n",
    "# If you are on linux or mac os, use / instead of \\\\\n",
    "\n",
    "with open(dataset_path + \"dados_semruido_ok.pkl\", \"rb\") as dados_ok_semruidos:\n",
    "        dados_sem_ruidos = pickle.load(dados_ok_semruidos)[0]\n",
    "with open(dataset_path + \"dados_semruido_agua_ok.pkl\", \"rb\") as dados_agua_ok:\n",
    "        dados_semruido_agua_ok= pickle.load(dados_agua_ok)[0]\n",
    "with open(dataset_path + \"dados_semruido_aspartame_ok.pkl\", \"rb\") as dados_aspartame_ok:\n",
    "        dados_semruido_aspartame_ok = pickle.load(dados_aspartame_ok)[0]\n",
    "with open(dataset_path + \"dados_semruido_sucralose_ok.pkl\", \"rb\") as dados_sucralose_ok:\n",
    "        dados_semruido_sucralose_ok = pickle.load(dados_sucralose_ok)[0]\n",
    "with open(dataset_path + \"dados_semruido_acucar_ok.pkl\", \"rb\") as dados_acucar_ok:\n",
    "        dados_semruido_acucar_ok = pickle.load(dados_acucar_ok)[0]"
   ]
  },
  {
   "cell_type": "code",
   "execution_count": 105,
   "metadata": {},
   "outputs": [],
   "source": [
    "X = dados_sem_ruidos[:,:-4]\n",
    "y = dados_sem_ruidos[:,-4:]\n",
    "X_agua = dados_semruido_agua_ok[:,:-4]\n",
    "y_agua = dados_semruido_agua_ok[:,-4:]\n",
    "X_acucar = dados_semruido_acucar_ok[:,:-4]\n",
    "y_acucar = dados_semruido_acucar_ok[:,-4:]\n",
    "X_aspartame = dados_semruido_aspartame_ok[:,:-4]\n",
    "y_aspartame = dados_semruido_aspartame_ok[:,-4:]\n",
    "X_sucralose = dados_semruido_sucralose_ok[:,:-4]\n",
    "y_sucralose = dados_semruido_sucralose_ok[:,-4:]"
   ]
  },
  {
   "cell_type": "markdown",
   "metadata": {},
   "source": [
    "# EVP"
   ]
  },
  {
   "cell_type": "markdown",
   "metadata": {},
   "source": [
    "### Visualizando um potencial:"
   ]
  },
  {
   "cell_type": "code",
   "execution_count": 222,
   "metadata": {},
   "outputs": [],
   "source": [
    "def plot_single(i, total_time, n_smoth_1, n_smoth_2=0):\n",
    "    plt.plot(np.convolve(X[i, :int(256*total_time)], np.ones(n_smoth_1)/n_smoth_1))\n",
    "    plt.plot(X[i, :int(256*total_time)])"
   ]
  },
  {
   "cell_type": "code",
   "execution_count": 223,
   "metadata": {},
   "outputs": [
    {
     "data": {
      "application/vnd.jupyter.widget-view+json": {
       "model_id": "368e7137d2714538b489f0cc2393223d",
       "version_major": 2,
       "version_minor": 0
      },
      "text/plain": [
       "VBox(children=(IntSlider(value=10, description='coleta', max=67), FloatSlider(value=1.0, description='Time(s)'…"
      ]
     },
     "metadata": {},
     "output_type": "display_data"
    },
    {
     "data": {
      "application/vnd.jupyter.widget-view+json": {
       "model_id": "6c36d383a4f1481286feff99f9d3f1e6",
       "version_major": 2,
       "version_minor": 0
      },
      "text/plain": [
       "Output()"
      ]
     },
     "metadata": {},
     "output_type": "display_data"
    }
   ],
   "source": [
    "coleta = widgets.IntSlider(value=10, min=0, max=67, description='coleta')\n",
    "total_time = widgets.FloatSlider(value=1, min=0.1, max=5, step=0.2, description='Time(s)')\n",
    "n_smoth_1 = widgets.IntSlider(value=20, min=1, max=100, step=5, description='MédiaMóvel')\n",
    "ui = widgets.VBox([coleta, total_time, n_smoth_1])\n",
    "out = widgets.interactive_output(plot_single, \n",
    "              {'i': coleta, 'total_time': total_time, 'n_smoth_1':n_smoth_1})\n",
    "display(ui, out)"
   ]
  },
  {
   "cell_type": "code",
   "execution_count": 224,
   "metadata": {},
   "outputs": [],
   "source": [
    "def plot_all_type(tipo,  total_time, n_smoth_1):\n",
    "    if tipo == 'Água':\n",
    "        X = X_agua\n",
    "    elif tipo == 'Sucralose':\n",
    "        X = X_sucralose\n",
    "    elif tipo == 'Aspartame':\n",
    "        X = X_aspartame\n",
    "    else:\n",
    "        X = X_acucar\n",
    "    X_smoth = np.ndarray(X[:, :int(256*total_time)+n_smoth_1-1].shape)\n",
    "    for i in range(X.shape[0]):\n",
    "        X_smoth[i, :] = np.convolve(X[i, :int(256*total_time)], np.ones(n_smoth_1)/n_smoth_1)\n",
    "    plt.plot(X_smoth.sum(axis=0))"
   ]
  },
  {
   "cell_type": "code",
   "execution_count": 225,
   "metadata": {},
   "outputs": [
    {
     "data": {
      "application/vnd.jupyter.widget-view+json": {
       "model_id": "7798c7a3fe1a44d1bfdc71f20a0a26dc",
       "version_major": 2,
       "version_minor": 0
      },
      "text/plain": [
       "VBox(children=(FloatSlider(value=1.0, description='Time(s)', max=5.0, min=0.1, step=0.2), IntSlider(value=20, …"
      ]
     },
     "metadata": {},
     "output_type": "display_data"
    },
    {
     "data": {
      "application/vnd.jupyter.widget-view+json": {
       "model_id": "f70fae4c3fe34ad18cb6c3e0999fd53c",
       "version_major": 2,
       "version_minor": 0
      },
      "text/plain": [
       "Output()"
      ]
     },
     "metadata": {},
     "output_type": "display_data"
    }
   ],
   "source": [
    "total_time = widgets.FloatSlider(value=1, min=0.1, max=5, step=0.2, description='Time(s)')\n",
    "n_smoth_1 = widgets.IntSlider(value=20, min=1, max=100, step=5, description='MédiaMóvel')\n",
    "bebida = widgets.Dropdown(options=['Açúcar','Água', 'Sucralose', 'Aspartame'],value='Açúcar')\n",
    "ui = widgets.VBox([total_time, n_smoth_1, bebida])\n",
    "out = widgets.interactive_output(plot_all_type, \n",
    "              {'tipo': bebida, 'total_time': total_time, 'n_smoth_1':n_smoth_1})\n",
    "display(ui, out)"
   ]
  },
  {
   "cell_type": "code",
   "execution_count": 226,
   "metadata": {},
   "outputs": [],
   "source": [
    "def plot_all_together(total_time, n_smoth_1):\n",
    "    X_smoth_agua = np.ndarray(X_agua[:, :int(256*total_time)+n_smoth_1-1].shape)\n",
    "    X_smoth_acucar = np.ndarray(X_acucar[:, :int(256*total_time)+n_smoth_1-1].shape)\n",
    "    X_smoth_aspartame = np.ndarray(X_aspartame[:, :int(256*total_time)+n_smoth_1-1].shape)\n",
    "    X_smoth_sucralose = np.ndarray(X_sucralose[:, :int(256*total_time)+n_smoth_1-1].shape)\n",
    "    for i in range(X_agua.shape[0]):\n",
    "        X_smoth_agua[i, :] = np.convolve(X_agua[i, :int(256*total_time)], np.ones(n_smoth_1)/n_smoth_1)\n",
    "    for i in range(X_sucralose.shape[0]):\n",
    "        X_smoth_sucralose[i, :] = np.convolve(X_sucralose[i, :int(256*total_time)], np.ones(n_smoth_1)/n_smoth_1)\n",
    "    for i in range(X_acucar.shape[0]):\n",
    "        X_smoth_acucar[i, :] = np.convolve(X_acucar[i, :int(256*total_time)], np.ones(n_smoth_1)/n_smoth_1)\n",
    "    for i in range(X_aspartame.shape[0]):\n",
    "        X_smoth_aspartame[i, :] = np.convolve(X_aspartame[i, :int(256*total_time)], np.ones(n_smoth_1)/n_smoth_1)\n",
    "    plt.plot(X_smoth_agua.sum(axis=0))\n",
    "    plt.plot(X_smoth_sucralose.sum(axis=0))\n",
    "    plt.plot(X_smoth_acucar.sum(axis=0))\n",
    "    plt.plot(X_smoth_aspartame.sum(axis=0))"
   ]
  },
  {
   "cell_type": "code",
   "execution_count": 227,
   "metadata": {},
   "outputs": [
    {
     "data": {
      "application/vnd.jupyter.widget-view+json": {
       "model_id": "9912b62bafea43f2a4759867be3f987a",
       "version_major": 2,
       "version_minor": 0
      },
      "text/plain": [
       "VBox(children=(FloatSlider(value=1.0, description='Time(s)', max=5.0, min=0.1, step=0.2), IntSlider(value=20, …"
      ]
     },
     "metadata": {},
     "output_type": "display_data"
    },
    {
     "data": {
      "application/vnd.jupyter.widget-view+json": {
       "model_id": "496d661c24414575bb9a704f67a0740b",
       "version_major": 2,
       "version_minor": 0
      },
      "text/plain": [
       "Output()"
      ]
     },
     "metadata": {},
     "output_type": "display_data"
    }
   ],
   "source": [
    "total_time = widgets.FloatSlider(value=1, min=0.1, max=5, step=0.2, description='Time(s)')\n",
    "n_smoth_1 = widgets.IntSlider(value=20, min=1, max=100, step=5, description='MédiaMóvel')\n",
    "ui = widgets.VBox([total_time, n_smoth_1])\n",
    "out = widgets.interactive_output(plot_all_together, \n",
    "              {'total_time': total_time, 'n_smoth_1':n_smoth_1})\n",
    "display(ui, out)"
   ]
  },
  {
   "cell_type": "markdown",
   "metadata": {},
   "source": [
    "Options parameters for data multiplication"
   ]
  },
  {
   "cell_type": "code",
   "execution_count": 99,
   "metadata": {},
   "outputs": [],
   "source": [
    "window_time = 5       # the size of each data sample in seconds - array size = window_time * 512\n",
    "window_slide = 0.001   # the stride in seconds\n",
    "t_inicial = 0.0       # start value for the data in seconds (time before that will be ignored)\n",
    "delta_time = 6        # the amount of data that will be used (time after delta_time + t_inicial will be ignored)"
   ]
  },
  {
   "cell_type": "code",
   "execution_count": 100,
   "metadata": {},
   "outputs": [],
   "source": [
    "liquidos = ['agua   ', 'acucar  ', 'aspartame', 'sucralose']\n",
    "\n",
    "X_agua_train, X_agua_test, y_agua_train, y_agua_test = train_test_split(X_agua, y_agua, test_size=0.3, random_state=42)\n",
    "X_acucar_train, X_acucar_test, y_acucar_train, y_agua_test = train_test_split(X_acucar, y_acucar, test_size=0.3, random_state=42)\n",
    "X_aspartame_train, X_aspartame_test, y_aspartame_train, y_agua_test = train_test_split(X_aspartame, y_aspartame, test_size=0.3, random_state=42)\n",
    "X_sucralose_train, X_sucralose_test, y_sucralose_train, y_sucralose_test = train_test_split(X_sucralose, y_sucralose, test_size=0.3, random_state=42)\n",
    "\n",
    "X_agua_train, y_agua_train = multiplica_dados(X_agua_train,t_inicial ,t_inicial+delta_time ,512 ,window_time, window_slide, y_agua)\n",
    "X_acucar_train, y_acucar_train = multiplica_dados(X_acucar_train,t_inicial ,t_inicial+delta_time ,512 ,window_time, window_slide, y_acucar)\n",
    "X_aspartame_train, y_aspartame_train = multiplica_dados(X_aspartame_train,t_inicial ,t_inicial+delta_time ,512 ,window_time, window_slide, y_aspartame)\n",
    "X_sucralose_train, y_sucralose_train = multiplica_dados(X_sucralose_train,t_inicial ,t_inicial+delta_time ,512 ,window_time, window_slide, y_sucralose)\n",
    "\n",
    "X_agua_test, y_agua_test = multiplica_dados(X_agua_test,t_inicial ,t_inicial+delta_time ,512 ,window_time, window_slide, y_agua)\n",
    "X_acucar_test, y_acucar_test = multiplica_dados(X_acucar_test,t_inicial ,t_inicial+delta_time ,512 ,window_time, window_slide, y_acucar)\n",
    "X_aspartame_test, y_aspartame_test = multiplica_dados(X_aspartame_test,t_inicial ,t_inicial+delta_time ,512 ,window_time, window_slide, y_aspartame)\n",
    "X_sucralose_test, y_sucralose_test = multiplica_dados(X_sucralose_test,t_inicial ,t_inicial+delta_time ,512 ,window_time, window_slide, y_sucralose)\n",
    "\n",
    "y_agua_train = y_agua_train[:,1]\n",
    "y_acucar_train = y_acucar_train[:,1]\n",
    "y_aspartame_train = y_aspartame_train[:,1]\n",
    "y_sucralose_train = y_sucralose_train[:,1]\n",
    "y_agua_test = y_agua_test[:,1]\n",
    "y_acucar_test = y_acucar_test[:,1]\n",
    "y_aspartame_test = y_aspartame_test[:,1]\n",
    "y_sucralose_test = y_sucralose_test[:,1]\n",
    "\n",
    "X_train = np.concatenate((X_agua_train, X_acucar_train, X_aspartame_train, X_sucralose_train))\n",
    "X_test = np.concatenate((X_agua_test, X_acucar_test, X_aspartame_test, X_sucralose_test))\n",
    "y_train = np.concatenate((y_agua_train, y_acucar_train, y_aspartame_train, y_sucralose_train))\n",
    "y_test = np.concatenate((y_agua_test, y_acucar_test, y_aspartame_test, y_sucralose_test))\n",
    "\n",
    "y_train = tf.keras.utils.to_categorical(y_train, num_classes=None, dtype='float32')\n",
    "y_test = tf.keras.utils.to_categorical(y_test, num_classes=None, dtype='float32')\n",
    "\n",
    "X_train_len = X_train.shape[0]\n",
    "X_all = tf.keras.utils.normalize(np.concatenate((X_train, X_test)), axis=-1, order=2)\n",
    "X_train = X_all[:X_train_len,:]\n",
    "X_test = X_all[X_train_len:,:]\n",
    "\n",
    "X_train = np.reshape(X_train, (X_train.shape[0], X_train.shape[1], 1))\n",
    "X_test = np.reshape(X_test, (X_test.shape[0], X_test.shape[1], 1))\n",
    "y_train = np.reshape(y_train, (y_train.shape[0], 4))\n",
    "y_test = np.reshape(y_test, (y_test.shape[0], 4))"
   ]
  },
  {
   "cell_type": "markdown",
   "metadata": {},
   "source": [
    "Let's check if data was imported and is in the correct format:"
   ]
  },
  {
   "cell_type": "code",
   "execution_count": 32,
   "metadata": {},
   "outputs": [
    {
     "name": "stdout",
     "output_type": "stream",
     "text": [
      "Input format: X_train:(2760, 2560, 1) \t y_train:(2760, 4) \t X_test:(1320, 2560, 1) \t y_test:(1320, 4)\n"
     ]
    }
   ],
   "source": [
    "print(f'Input format: X_train:{X_train.shape} \\t y_train:{y_train.shape} \\t X_test:{X_test.shape} \\t y_test:{y_test.shape}')"
   ]
  },
  {
   "cell_type": "code",
   "execution_count": 33,
   "metadata": {},
   "outputs": [
    {
     "data": {
      "text/plain": [
       "[<matplotlib.lines.Line2D at 0x1790503d608>]"
      ]
     },
     "execution_count": 33,
     "metadata": {},
     "output_type": "execute_result"
    },
    {
     "data": {
      "image/png": "[encoded data removed]",
      "text/plain": [
       "<Figure size 432x288 with 1 Axes>"
      ]
     },
     "metadata": {
      "needs_background": "light"
     },
     "output_type": "display_data"
    }
   ],
   "source": [
    "plt.plot(X_train[0])"
   ]
  },
  {
   "cell_type": "code",
   "execution_count": 103,
   "metadata": {},
   "outputs": [
    {
     "data": {
      "image/png": "[encoded data removed]",
      "text/plain": [
       "<Figure size 432x288 with 1 Axes>"
      ]
     },
     "metadata": {
      "needs_background": "light"
     },
     "output_type": "display_data"
    }
   ],
   "source": [
    "plt.specgram(X_acucar[5], Fs=512)\n",
    "plt.axis(ymin=0.1, ymax=55)\n",
    "plt.show()"
   ]
  },
  {
   "cell_type": "code",
   "execution_count": 19,
   "metadata": {},
   "outputs": [
    {
     "data": {
      "text/plain": [
       "array([1., 0., 0., 0.], dtype=float32)"
      ]
     },
     "execution_count": 19,
     "metadata": {},
     "output_type": "execute_result"
    }
   ],
   "source": [
    "y_train[0]"
   ]
  },
  {
   "cell_type": "markdown",
   "metadata": {},
   "source": [
    "## Now we create the Neural network and train it"
   ]
  },
  {
   "cell_type": "markdown",
   "metadata": {},
   "source": [
    "Creating a NN with keras fuctional api"
   ]
  },
  {
   "cell_type": "code",
   "execution_count": 80,
   "metadata": {
    "collapsed": true,
    "jupyter": {
     "outputs_hidden": true
    }
   },
   "outputs": [
    {
     "data": {
      "application/vnd.jupyter.widget-view+json": {
       "model_id": "9436cb57f65d41dca4f3cc2e4e80dcab",
       "version_major": 2,
       "version_minor": 0
      },
      "text/plain": [
       "HBox(children=(HTML(value=''), FloatProgress(value=1.0, bar_style='info', layout=Layout(width='20px'), max=1.0…"
      ]
     },
     "metadata": {},
     "output_type": "display_data"
    },
    {
     "data": {
      "application/vnd.jupyter.widget-view+json": {
       "model_id": "",
       "version_major": 2,
       "version_minor": 0
      },
      "text/plain": [
       "HBox(children=(HTML(value=''), FloatProgress(value=1.0, bar_style='info', layout=Layout(width='20px'), max=1.0…"
      ]
     },
     "metadata": {},
     "output_type": "display_data"
    },
    {
     "name": "stdout",
     "output_type": "stream",
     "text": [
      "\n",
      "Epoch 00001: val_accuracy improved from -inf to 0.31136, saving model to best_model.h5\n",
      "\n",
      "Epoch 00002: val_accuracy improved from 0.31136 to 0.39545, saving model to best_model.h5\n",
      "\n",
      "Epoch 00003: val_accuracy improved from 0.39545 to 0.41045, saving model to best_model.h5\n",
      "\n",
      "Epoch 00004: val_accuracy improved from 0.41045 to 0.41773, saving model to best_model.h5\n",
      "\n",
      "Epoch 00005: val_accuracy improved from 0.41773 to 0.44227, saving model to best_model.h5\n",
      "\n",
      "Epoch 00006: val_accuracy did not improve from 0.44227\n",
      "\n",
      "Epoch 00007: val_accuracy did not improve from 0.44227\n",
      "\n",
      "Epoch 00008: val_accuracy did not improve from 0.44227\n",
      "\n",
      "Epoch 00009: val_accuracy did not improve from 0.44227\n",
      "\n",
      "Epoch 00010: val_accuracy did not improve from 0.44227\n",
      "\n",
      "Epoch 00011: val_accuracy did not improve from 0.44227\n",
      "\n",
      "Epoch 00012: val_accuracy did not improve from 0.44227\n",
      "\n",
      "Epoch 00013: val_accuracy improved from 0.44227 to 0.44455, saving model to best_model.h5\n",
      "\n",
      "Epoch 00014: val_accuracy did not improve from 0.44455\n",
      "\n",
      "Epoch 00015: val_accuracy did not improve from 0.44455\n",
      "\n",
      "Epoch 00016: val_accuracy did not improve from 0.44455\n",
      "\n",
      "Epoch 00017: val_accuracy did not improve from 0.44455\n",
      "\n",
      "Epoch 00018: val_accuracy did not improve from 0.44455\n",
      "\n",
      "Epoch 00019: val_accuracy did not improve from 0.44455\n",
      "\n",
      "Epoch 00020: val_accuracy did not improve from 0.44455\n",
      "\n",
      "Epoch 00021: val_accuracy did not improve from 0.44455\n",
      "\n",
      "Epoch 00022: val_accuracy did not improve from 0.44455\n",
      "\n",
      "Epoch 00023: val_accuracy did not improve from 0.44455\n",
      "\n",
      "Epoch 00024: val_accuracy did not improve from 0.44455\n",
      "\n",
      "Epoch 00025: val_accuracy did not improve from 0.44455\n",
      "\n",
      "Epoch 00026: val_accuracy did not improve from 0.44455\n",
      "\n",
      "Epoch 00027: val_accuracy did not improve from 0.44455\n",
      "\n",
      "Epoch 00028: val_accuracy did not improve from 0.44455\n",
      "\n",
      "Epoch 00029: val_accuracy did not improve from 0.44455\n",
      "\n",
      "Epoch 00030: val_accuracy did not improve from 0.44455\n",
      "\n",
      "Epoch 00031: val_accuracy did not improve from 0.44455\n",
      "\n",
      "Epoch 00032: val_accuracy did not improve from 0.44455\n",
      "\n",
      "Epoch 00033: val_accuracy did not improve from 0.44455\n",
      "\n",
      "Epoch 00034: val_accuracy did not improve from 0.44455\n",
      "\n",
      "Epoch 00035: val_accuracy did not improve from 0.44455\n",
      "\n",
      "Epoch 00036: val_accuracy did not improve from 0.44455\n",
      "\n",
      "Epoch 00037: val_accuracy did not improve from 0.44455\n",
      "\n",
      "Epoch 00038: val_accuracy did not improve from 0.44455\n",
      "\n",
      "Epoch 00039: val_accuracy did not improve from 0.44455\n",
      "\n",
      "Epoch 00040: val_accuracy did not improve from 0.44455\n",
      "\n",
      "Epoch 00041: val_accuracy did not improve from 0.44455\n",
      "\n",
      "Epoch 00042: val_accuracy did not improve from 0.44455\n",
      "\n",
      "Epoch 00043: val_accuracy did not improve from 0.44455\n",
      "\n",
      "Epoch 00044: val_accuracy did not improve from 0.44455\n",
      "\n",
      "Epoch 00045: val_accuracy did not improve from 0.44455\n",
      "\n",
      "Epoch 00046: val_accuracy did not improve from 0.44455\n",
      "\n",
      "Epoch 00047: val_accuracy did not improve from 0.44455\n",
      "\n",
      "Epoch 00048: val_accuracy did not improve from 0.44455\n",
      "\n",
      "Epoch 00049: val_accuracy did not improve from 0.44455\n",
      "\n",
      "Epoch 00050: val_accuracy did not improve from 0.44455\n",
      "\n",
      "Epoch 00051: val_accuracy did not improve from 0.44455\n",
      "\n",
      "Epoch 00052: val_accuracy did not improve from 0.44455\n",
      "\n",
      "Epoch 00053: val_accuracy did not improve from 0.44455\n",
      "\n",
      "Epoch 00054: val_accuracy did not improve from 0.44455\n",
      "\n",
      "Epoch 00055: val_accuracy improved from 0.44455 to 0.45136, saving model to best_model.h5\n",
      "\n",
      "Epoch 00056: val_accuracy did not improve from 0.45136\n",
      "\n",
      "Epoch 00057: val_accuracy did not improve from 0.45136\n",
      "\n",
      "Epoch 00058: val_accuracy did not improve from 0.45136\n",
      "\n",
      "Epoch 00059: val_accuracy did not improve from 0.45136\n",
      "\n",
      "Epoch 00060: val_accuracy did not improve from 0.45136\n",
      "\n",
      "Epoch 00061: val_accuracy did not improve from 0.45136\n",
      "\n",
      "Epoch 00062: val_accuracy did not improve from 0.45136\n",
      "\n",
      "Epoch 00063: val_accuracy did not improve from 0.45136\n",
      "\n",
      "Epoch 00064: val_accuracy did not improve from 0.45136\n",
      "\n",
      "Epoch 00065: val_accuracy did not improve from 0.45136\n",
      "\n",
      "Epoch 00066: val_accuracy did not improve from 0.45136\n",
      "\n",
      "Epoch 00067: val_accuracy did not improve from 0.45136\n",
      "\n",
      "Epoch 00068: val_accuracy did not improve from 0.45136\n",
      "\n",
      "Epoch 00069: val_accuracy did not improve from 0.45136\n",
      "\n",
      "Epoch 00070: val_accuracy did not improve from 0.45136\n",
      "\n",
      "Epoch 00071: val_accuracy did not improve from 0.45136\n",
      "\n",
      "Epoch 00072: val_accuracy did not improve from 0.45136\n",
      "\n",
      "Epoch 00073: val_accuracy did not improve from 0.45136\n",
      "\n",
      "Epoch 00074: val_accuracy did not improve from 0.45136\n",
      "\n",
      "Epoch 00075: val_accuracy did not improve from 0.45136\n",
      "\n",
      "Epoch 00076: val_accuracy did not improve from 0.45136\n",
      "\n",
      "Epoch 00077: val_accuracy did not improve from 0.45136\n",
      "\n",
      "Epoch 00078: val_accuracy did not improve from 0.45136\n",
      "\n",
      "Epoch 00079: val_accuracy did not improve from 0.45136\n",
      "\n",
      "Epoch 00080: val_accuracy did not improve from 0.45136\n",
      "\n",
      "Epoch 00081: val_accuracy did not improve from 0.45136\n",
      "\n",
      "Epoch 00082: val_accuracy improved from 0.45136 to 0.47045, saving model to best_model.h5\n",
      "\n",
      "Epoch 00083: val_accuracy did not improve from 0.47045\n",
      "\n",
      "Epoch 00084: val_accuracy did not improve from 0.47045\n",
      "\n",
      "Epoch 00085: val_accuracy did not improve from 0.47045\n",
      "\n",
      "Epoch 00086: val_accuracy did not improve from 0.47045\n",
      "\n",
      "Epoch 00087: val_accuracy did not improve from 0.47045\n",
      "\n",
      "Epoch 00088: val_accuracy did not improve from 0.47045\n",
      "\n",
      "Epoch 00089: val_accuracy did not improve from 0.47045\n",
      "\n",
      "Epoch 00090: val_accuracy did not improve from 0.47045\n",
      "\n",
      "Epoch 00091: val_accuracy did not improve from 0.47045\n",
      "\n",
      "Epoch 00092: val_accuracy did not improve from 0.47045\n",
      "\n",
      "Epoch 00093: val_accuracy did not improve from 0.47045\n",
      "\n",
      "Epoch 00094: val_accuracy did not improve from 0.47045\n",
      "\n",
      "Epoch 00095: val_accuracy improved from 0.47045 to 0.48955, saving model to best_model.h5\n",
      "\n",
      "Epoch 00096: val_accuracy did not improve from 0.48955\n",
      "\n",
      "Epoch 00097: val_accuracy did not improve from 0.48955\n",
      "\n",
      "Epoch 00098: val_accuracy did not improve from 0.48955\n",
      "\n",
      "Epoch 00099: val_accuracy did not improve from 0.48955\n",
      "\n",
      "Epoch 00100: val_accuracy did not improve from 0.48955\n",
      "\n"
     ]
    }
   ],
   "source": [
    "es = EarlyStopping(monitor='val_loss', mode='min', verbose=1, patience=150)\n",
    "mc = ModelCheckpoint('best_model.h5', monitor='val_accuracy', mode='max', verbose=2, save_best_only=True)\n",
    "\n",
    "Inputs = tf.keras.Input(shape=(X_train.shape[1],1))\n",
    "\n",
    "cv1 = Dropout(0.2)(Inputs)\n",
    "cv1 = Conv1D(filters=500, kernel_size=1400, activation='relu', kernel_constraint=MaxNorm(1.), strides=5)(cv1)\n",
    "cv1 = MaxPooling1D(pool_size=10)(cv1)\n",
    "cv1 = Flatten()(cv1)\n",
    "cv1 = Dropout(0.4)(cv1)\n",
    "cv1 = Dense(200, activation='relu')(cv1)\n",
    "\n",
    "cv2 = Dropout(0.4)(Inputs)\n",
    "cv2 = Conv1D(filters=500, kernel_size=150, activation='relu', kernel_constraint=MaxNorm(1.), strides=5)(cv2)\n",
    "cv2 = MaxPooling1D(pool_size=10)(cv2)\n",
    "cv2 = Flatten()(cv2)\n",
    "cv2 = Dropout(0.4)(cv2)\n",
    "cv2 = Dense(200, activation='relu')(cv2)\n",
    "\n",
    "cv3 = Dropout(0.2)(Inputs)\n",
    "cv3 = Conv1D(filters=500, kernel_size=500, activation='relu', kernel_constraint=MaxNorm(1.), strides=5)(cv3)\n",
    "cv3 = MaxPooling1D(pool_size=10)(cv3)\n",
    "cv3 = Flatten()(cv3)\n",
    "cv3 = Dropout(0.4)(cv3)\n",
    "cv3 = Dense(200, activation='relu')(cv3)\n",
    "\n",
    "merge = concatenate([cv1, cv2, cv3])\n",
    "\n",
    "x = Dropout(0.2)(merge)\n",
    "x = Dense(400, activation='relu')(x)\n",
    "x = Dropout(0.2)(x)\n",
    "Oututs = Dense(4, activation='softmax')(x)\n",
    "\n",
    "\n",
    "model = tf.keras.Model(inputs=Inputs, outputs=Oututs)\n",
    "model.compile(\n",
    "    loss='categorical_crossentropy', #losses.CategoricalCrossentropy(from_logits=True), \n",
    "    optimizer='adam', \n",
    "    metrics=['accuracy'])\n",
    "history = model.fit(X_train, y_train, validation_data=(X_test, y_test), epochs=100, batch_size=32, verbose=0, shuffle=True, callbacks=[TqdmCallback(verbose=1), es, mc])"
   ]
  },
  {
   "cell_type": "markdown",
   "metadata": {},
   "source": [
    "Let's see the best score"
   ]
  },
  {
   "cell_type": "code",
   "execution_count": 61,
   "metadata": {},
   "outputs": [],
   "source": [
    "model_best = tf.keras.models.load_model('best_model.h5')"
   ]
  },
  {
   "cell_type": "markdown",
   "metadata": {},
   "source": [
    "This is the NN topology"
   ]
  },
  {
   "cell_type": "code",
   "execution_count": 62,
   "metadata": {
    "collapsed": true,
    "jupyter": {
     "outputs_hidden": true
    }
   },
   "outputs": [
    {
     "data": {
      "image/png": "[encoded data removed]",
      "text/plain": [
       "<IPython.core.display.Image object>"
      ]
     },
     "execution_count": 62,
     "metadata": {},
     "output_type": "execute_result"
    }
   ],
   "source": [
    "tf.keras.utils.plot_model(\n",
    "    model_best, to_file='model.png', show_shapes=False,\n",
    "    show_layer_names=True, rankdir='TB', expand_nested=False, dpi=96\n",
    ")"
   ]
  },
  {
   "cell_type": "markdown",
   "metadata": {},
   "source": [
    "Importing and printing our best result"
   ]
  },
  {
   "cell_type": "code",
   "execution_count": 84,
   "metadata": {},
   "outputs": [
    {
     "name": "stdout",
     "output_type": "stream",
     "text": [
      "WARNING:tensorflow:Sequential models without an `input_shape` passed to the first layer cannot reload their optimizer state. As a result, your model isstarting with a freshly initialized optimizer.\n"
     ]
    }
   ],
   "source": [
    "model_best = tf.keras.models.load_model('Tensorflow_Models\\\\best_model_601.h5')"
   ]
  },
  {
   "cell_type": "code",
   "execution_count": 101,
   "metadata": {},
   "outputs": [
    {
     "name": "stdout",
     "output_type": "stream",
     "text": [
      "22000/22000 [==============================] - ETA: 27s - loss: 0.5261 - accuracy: 1.000 - ETA: 7s - loss: 0.9620 - accuracy: 0.187 - ETA: 5s - loss: 0.9569 - accuracy: 0.17 - ETA: 5s - loss: 0.9327 - accuracy: 0.18 - ETA: 5s - loss: 0.8369 - accuracy: 0.32 - ETA: 4s - loss: 0.8368 - accuracy: 0.38 - ETA: 4s - loss: 0.8574 - accuracy: 0.38 - ETA: 4s - loss: 1.1516 - accuracy: 0.32 - ETA: 4s - loss: 1.2706 - accuracy: 0.35 - ETA: 4s - loss: 1.1083 - accuracy: 0.43 - ETA: 3s - loss: 0.9837 - accuracy: 0.50 - ETA: 3s - loss: 0.8939 - accuracy: 0.54 - ETA: 3s - loss: 0.8207 - accuracy: 0.58 - ETA: 3s - loss: 0.7554 - accuracy: 0.62 - ETA: 3s - loss: 0.7027 - accuracy: 0.65 - ETA: 3s - loss: 0.6588 - accuracy: 0.67 - ETA: 3s - loss: 0.6245 - accuracy: 0.69 - ETA: 3s - loss: 0.6118 - accuracy: 0.70 - ETA: 3s - loss: 1.3512 - accuracy: 0.67 - ETA: 3s - loss: 2.4921 - accuracy: 0.63 - ETA: 3s - loss: 3.5624 - accuracy: 0.60 - ETA: 2s - loss: 4.7915 - accuracy: 0.57 - ETA: 2s - loss: 6.4099 - accuracy: 0.54 - ETA: 2s - loss: 7.8759 - accuracy: 0.52 - ETA: 2s - loss: 9.1542 - accuracy: 0.50 - ETA: 2s - loss: 8.8766 - accuracy: 0.52 - ETA: 2s - loss: 8.5395 - accuracy: 0.53 - ETA: 2s - loss: 8.2271 - accuracy: 0.55 - ETA: 2s - loss: 7.9605 - accuracy: 0.55 - ETA: 2s - loss: 7.6997 - accuracy: 0.56 - ETA: 2s - loss: 7.4536 - accuracy: 0.58 - ETA: 2s - loss: 7.4017 - accuracy: 0.56 - ETA: 2s - loss: 7.8775 - accuracy: 0.54 - ETA: 2s - loss: 8.4207 - accuracy: 0.52 - ETA: 2s - loss: 8.9917 - accuracy: 0.51 - ETA: 2s - loss: 9.4588 - accuracy: 0.49 - ETA: 2s - loss: 9.9089 - accuracy: 0.48 - ETA: 2s - loss: 10.3099 - accuracy: 0.468 - ETA: 1s - loss: 10.1493 - accuracy: 0.478 - ETA: 1s - loss: 9.8978 - accuracy: 0.491 - ETA: 1s - loss: 9.6573 - accuracy: 0.50 - ETA: 1s - loss: 9.4289 - accuracy: 0.51 - ETA: 1s - loss: 9.2119 - accuracy: 0.52 - ETA: 1s - loss: 9.0042 - accuracy: 0.53 - ETA: 1s - loss: 8.8052 - accuracy: 0.54 - ETA: 1s - loss: 8.9685 - accuracy: 0.53 - ETA: 1s - loss: 9.1685 - accuracy: 0.52 - ETA: 1s - loss: 9.4219 - accuracy: 0.51 - ETA: 1s - loss: 9.3910 - accuracy: 0.51 - ETA: 1s - loss: 9.2041 - accuracy: 0.52 - ETA: 1s - loss: 9.0049 - accuracy: 0.53 - ETA: 1s - loss: 8.8446 - accuracy: 0.53 - ETA: 1s - loss: 8.7600 - accuracy: 0.52 - ETA: 1s - loss: 8.6537 - accuracy: 0.51 - ETA: 1s - loss: 8.5026 - accuracy: 0.52 - ETA: 1s - loss: 8.3355 - accuracy: 0.53 - ETA: 0s - loss: 8.1907 - accuracy: 0.54 - ETA: 0s - loss: 8.0509 - accuracy: 0.54 - ETA: 0s - loss: 7.9009 - accuracy: 0.55 - ETA: 0s - loss: 7.7565 - accuracy: 0.56 - ETA: 0s - loss: 7.6310 - accuracy: 0.57 - ETA: 0s - loss: 7.5101 - accuracy: 0.57 - ETA: 0s - loss: 7.3928 - accuracy: 0.58 - ETA: 0s - loss: 7.2786 - accuracy: 0.59 - ETA: 0s - loss: 7.1559 - accuracy: 0.59 - ETA: 0s - loss: 7.0393 - accuracy: 0.60 - ETA: 0s - loss: 6.9384 - accuracy: 0.61 - ETA: 0s - loss: 6.8280 - accuracy: 0.61 - ETA: 0s - loss: 6.7312 - accuracy: 0.62 - ETA: 0s - loss: 6.6365 - accuracy: 0.62 - ETA: 0s - loss: 6.5344 - accuracy: 0.63 - ETA: 0s - loss: 6.4473 - accuracy: 0.63 - ETA: 0s - loss: 6.3525 - accuracy: 0.64 - ETA: 0s - loss: 6.2683 - accuracy: 0.64 - ETA: 0s - loss: 6.1863 - accuracy: 0.65 - 4s 178us/sample - loss: 6.1818 - accuracy: 0.6545\n"
     ]
    },
    {
     "data": {
      "text/plain": [
       "[6.181768329076739, 0.6544545]"
      ]
     },
     "execution_count": 101,
     "metadata": {},
     "output_type": "execute_result"
    }
   ],
   "source": [
    "model_best.evaluate(X_test, y_test)"
   ]
  },
  {
   "cell_type": "code",
   "execution_count": 102,
   "metadata": {},
   "outputs": [
    {
     "name": "stdout",
     "output_type": "stream",
     "text": [
      "Confusion matrix, without normalization\n",
      "[[3498  617  711  174]\n",
      " [  12 1631  493 2864]\n",
      " [   0    4 3269 2727]\n",
      " [   0    0    0 6000]]\n",
      "agua    \t 0.6996 %\n",
      "acucar   \t 0.3262 %\n",
      "aspartame \t 0.5448333333333333 %\n",
      "sucralose \t 1.0 %\n"
     ]
    },
    {
     "data": {
      "image/png": "[encoded data removed]",
      "text/plain": [
       "<Figure size 432x288 with 2 Axes>"
      ]
     },
     "metadata": {
      "needs_background": "light"
     },
     "output_type": "display_data"
    }
   ],
   "source": [
    "model_best.evaluate(X_test, y_test, verbose=False)\n",
    "y_pred = model_best.predict(X_test)\n",
    "cm = confusion_matrix(y_true=np.argmax(y_test, axis=1), y_pred=np.argmax(y_pred, axis=1))\n",
    "plot_confusion_matrix(cm, liquidos)\n",
    "for i in range(4):\n",
    "    print(f'{liquidos[i]} \\t {cm[i,i]/cm[i,:].sum()} %')"
   ]
  }
 ],
 "metadata": {
  "kernelspec": {
   "display_name": "Python 3",
   "language": "python",
   "name": "python3"
  },
  "language_info": {
   "codemirror_mode": {
    "name": "ipython",
    "version": 3
   },
   "file_extension": ".py",
   "mimetype": "text/x-python",
   "name": "python",
   "nbconvert_exporter": "python",
   "pygments_lexer": "ipython3",
   "version": "3.9.7"
  }
 },
 "nbformat": 4,
 "nbformat_minor": 4
}
